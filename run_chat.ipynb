{
 "cells": [
  {
   "cell_type": "code",
   "execution_count": null,
   "metadata": {},
   "outputs": [],
   "source": [
    "# !pip install anthropic\n",
    "# !pip install python-dotenv\n"
   ]
  },
  {
   "cell_type": "code",
   "execution_count": 10,
   "metadata": {},
   "outputs": [],
   "source": [
    "import csv\n",
    "import random\n",
    "import anthropic\n",
    "import os\n",
    "import sys\n",
    "import time\n",
    "import llm_interfaces\n",
    "import prompts"
   ]
  },
  {
   "cell_type": "code",
   "execution_count": 11,
   "metadata": {},
   "outputs": [],
   "source": [
    "interface = 'anthropic'"
   ]
  },
  {
   "cell_type": "code",
   "execution_count": 14,
   "metadata": {},
   "outputs": [],
   "source": [
    "\n",
    "def send_prompt(clue: str, resolution_index: int):\n",
    "    iterations = 3\n",
    "    mapped_messages = []\n",
    "\n",
    "    for i in range(iterations):\n",
    "        new_user_message = prompts.mount_user_prompt(clue, resolution_index, i,interface=interface)\n",
    "        mapped_messages.append(new_user_message)\n",
    "        \n",
    "        new_response = llm_interfaces.call_model(mapped_messages,interface=interface)\n",
    "        \n",
    "        if new_response is False or new_response is None:\n",
    "            break\n",
    "            \n",
    "        new_assistant_message = prompts.mount_assistant_prompt(new_response,interface=interface)\n",
    "        mapped_messages.append(new_assistant_message)\n",
    "        \n",
    "    mapped_messages.insert(0, \"\\n\\n\\n============ USER ============\\n\\n\\n\")\n",
    "    mapped_messages.insert(2, \"\\n\\n\\n========== ASSISTANT ==========\\n\\n\\n\")\n",
    "    mapped_messages.insert(4, \"\\n\\n\\n============ USER ============\\n\\n\\n\")\n",
    "    mapped_messages.insert(6, \"\\n\\n\\n========== ASSISTANT ==========\\n\\n\\n\")\n",
    "    mapped_messages.insert(8, \"\\n\\n\\n============ USER ============\\n\\n\\n\")\n",
    "    mapped_messages.insert(10, \"\\n\\n\\n========== ASSISTANT ==========\\n\\n\\n\")\n",
    "    \n",
    "    return mapped_messages\n",
    "    \n",
    "def save_result(mapped_messages, resolution_index: int):\n",
    "    result_file = prompts.resolution_methods[resolution_index][\"result_file\"]\n",
    "    os.remove(result_file)\n",
    "    \n",
    "    f = open(result_file, \"x\")\n",
    "    f.write(\"\".join([prompts.get_response_text(message,interface=interface) for message in mapped_messages]))\n",
    "    \n",
    "    f.close()\n",
    "    \n",
    "    return f\"{result_file} done!\""
   ]
  },
  {
   "cell_type": "code",
   "execution_count": 15,
   "metadata": {},
   "outputs": [
    {
     "name": "stdout",
     "output_type": "stream",
     "text": [
      "Another non-200-range status code was received\n",
      "Code 401\n",
      "Message: <Response [401 Unauthorized]>\n"
     ]
    },
    {
     "ename": "AttributeError",
     "evalue": "'str' object has no attribute 'content'",
     "output_type": "error",
     "traceback": [
      "\u001b[0;31m---------------------------------------------------------------------------\u001b[0m",
      "\u001b[0;31mAttributeError\u001b[0m                            Traceback (most recent call last)",
      "Cell \u001b[0;32mIn[15], line 6\u001b[0m\n\u001b[1;32m      4\u001b[0m \u001b[38;5;28;01mfor\u001b[39;00m i \u001b[38;5;129;01min\u001b[39;00m \u001b[38;5;28mrange\u001b[39m(\u001b[38;5;28mlen\u001b[39m(prompts\u001b[38;5;241m.\u001b[39mresolution_methods)):\n\u001b[1;32m      5\u001b[0m     result \u001b[38;5;241m=\u001b[39m send_prompt(clue, i)\n\u001b[0;32m----> 6\u001b[0m     \u001b[43msave_result\u001b[49m\u001b[43m(\u001b[49m\u001b[43mresult\u001b[49m\u001b[43m,\u001b[49m\u001b[43m \u001b[49m\u001b[43mi\u001b[49m\u001b[43m)\u001b[49m\n\u001b[1;32m      7\u001b[0m     \u001b[38;5;28mprint\u001b[39m(i, \u001b[38;5;124m\"\u001b[39m\u001b[38;5;124mdone!\u001b[39m\u001b[38;5;124m\"\u001b[39m)\n",
      "Cell \u001b[0;32mIn[14], line 31\u001b[0m, in \u001b[0;36msave_result\u001b[0;34m(mapped_messages, resolution_index)\u001b[0m\n\u001b[1;32m     28\u001b[0m os\u001b[38;5;241m.\u001b[39mremove(result_file)\n\u001b[1;32m     30\u001b[0m f \u001b[38;5;241m=\u001b[39m \u001b[38;5;28mopen\u001b[39m(result_file, \u001b[38;5;124m\"\u001b[39m\u001b[38;5;124mx\u001b[39m\u001b[38;5;124m\"\u001b[39m)\n\u001b[0;32m---> 31\u001b[0m f\u001b[38;5;241m.\u001b[39mwrite(\u001b[38;5;124m\"\u001b[39m\u001b[38;5;124m\"\u001b[39m\u001b[38;5;241m.\u001b[39mjoin([prompts\u001b[38;5;241m.\u001b[39mget_response_text(message,interface\u001b[38;5;241m=\u001b[39minterface) \u001b[38;5;28;01mfor\u001b[39;00m message \u001b[38;5;129;01min\u001b[39;00m mapped_messages]))\n\u001b[1;32m     33\u001b[0m f\u001b[38;5;241m.\u001b[39mclose()\n\u001b[1;32m     35\u001b[0m \u001b[38;5;28;01mreturn\u001b[39;00m \u001b[38;5;124mf\u001b[39m\u001b[38;5;124m\"\u001b[39m\u001b[38;5;132;01m{\u001b[39;00mresult_file\u001b[38;5;132;01m}\u001b[39;00m\u001b[38;5;124m done!\u001b[39m\u001b[38;5;124m\"\u001b[39m\n",
      "Cell \u001b[0;32mIn[14], line 31\u001b[0m, in \u001b[0;36m<listcomp>\u001b[0;34m(.0)\u001b[0m\n\u001b[1;32m     28\u001b[0m os\u001b[38;5;241m.\u001b[39mremove(result_file)\n\u001b[1;32m     30\u001b[0m f \u001b[38;5;241m=\u001b[39m \u001b[38;5;28mopen\u001b[39m(result_file, \u001b[38;5;124m\"\u001b[39m\u001b[38;5;124mx\u001b[39m\u001b[38;5;124m\"\u001b[39m)\n\u001b[0;32m---> 31\u001b[0m f\u001b[38;5;241m.\u001b[39mwrite(\u001b[38;5;124m\"\u001b[39m\u001b[38;5;124m\"\u001b[39m\u001b[38;5;241m.\u001b[39mjoin([\u001b[43mprompts\u001b[49m\u001b[38;5;241;43m.\u001b[39;49m\u001b[43mget_response_text\u001b[49m\u001b[43m(\u001b[49m\u001b[43mmessage\u001b[49m\u001b[43m,\u001b[49m\u001b[43minterface\u001b[49m\u001b[38;5;241;43m=\u001b[39;49m\u001b[43minterface\u001b[49m\u001b[43m)\u001b[49m \u001b[38;5;28;01mfor\u001b[39;00m message \u001b[38;5;129;01min\u001b[39;00m mapped_messages]))\n\u001b[1;32m     33\u001b[0m f\u001b[38;5;241m.\u001b[39mclose()\n\u001b[1;32m     35\u001b[0m \u001b[38;5;28;01mreturn\u001b[39;00m \u001b[38;5;124mf\u001b[39m\u001b[38;5;124m\"\u001b[39m\u001b[38;5;132;01m{\u001b[39;00mresult_file\u001b[38;5;132;01m}\u001b[39;00m\u001b[38;5;124m done!\u001b[39m\u001b[38;5;124m\"\u001b[39m\n",
      "File \u001b[0;32m~/Documents/Projetos/lmllm/prompts.py:162\u001b[0m, in \u001b[0;36mget_response_text\u001b[0;34m(response, interface)\u001b[0m\n\u001b[1;32m    160\u001b[0m \u001b[38;5;28;01mdef\u001b[39;00m \u001b[38;5;21mget_response_text\u001b[39m(response,interface\u001b[38;5;241m=\u001b[39m\u001b[38;5;124m'\u001b[39m\u001b[38;5;124manthropic\u001b[39m\u001b[38;5;124m'\u001b[39m):\n\u001b[1;32m    161\u001b[0m     \u001b[38;5;28;01mif\u001b[39;00m interface\u001b[38;5;241m==\u001b[39m\u001b[38;5;124m'\u001b[39m\u001b[38;5;124manthropic\u001b[39m\u001b[38;5;124m'\u001b[39m:\n\u001b[0;32m--> 162\u001b[0m         \u001b[38;5;28;01mreturn\u001b[39;00m \u001b[43mresponse\u001b[49m\u001b[38;5;241;43m.\u001b[39;49m\u001b[43mcontent\u001b[49m[\u001b[38;5;241m0\u001b[39m]\u001b[38;5;241m.\u001b[39mtext\n\u001b[1;32m    163\u001b[0m     \u001b[38;5;28;01melif\u001b[39;00m interface\u001b[38;5;241m==\u001b[39m\u001b[38;5;124m'\u001b[39m\u001b[38;5;124mopenai\u001b[39m\u001b[38;5;124m'\u001b[39m:\n\u001b[1;32m    164\u001b[0m         \u001b[38;5;28;01mreturn\u001b[39;00m response\u001b[38;5;241m.\u001b[39mchoices[\u001b[38;5;241m0\u001b[39m]\u001b[38;5;241m.\u001b[39mmessage\u001b[38;5;241m.\u001b[39mcontent\n",
      "\u001b[0;31mAttributeError\u001b[0m: 'str' object has no attribute 'content'"
     ]
    }
   ],
   "source": [
    "clue = \"\"\"Tentei subir até o novo comunista que veio de fora, mas cansei bem no começo\"\"\"\n",
    "\n",
    "result = None\n",
    "for i in range(len(prompts.resolution_methods)):\n",
    "    result = send_prompt(clue, i)\n",
    "    save_result(result, i)\n",
    "    print(i, \"done!\")\n",
    "    "
   ]
  },
  {
   "cell_type": "code",
   "execution_count": null,
   "metadata": {},
   "outputs": [],
   "source": []
  }
 ],
 "metadata": {
  "language_info": {
   "name": "python"
  }
 },
 "nbformat": 4,
 "nbformat_minor": 2
}
