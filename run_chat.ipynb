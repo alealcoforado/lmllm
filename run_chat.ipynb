{
 "cells": [
  {
   "cell_type": "code",
   "execution_count": null,
   "metadata": {},
   "outputs": [],
   "source": [
    "# !pip install anthropic\n",
    "# !pip install python-dotenv\n"
   ]
  },
  {
   "cell_type": "code",
   "execution_count": 7,
   "metadata": {},
   "outputs": [],
   "source": [
    "import csv\n",
    "import random\n",
    "import anthropic\n",
    "import os\n",
    "import sys\n",
    "import time\n",
    "import llm_interfaces\n",
    "import prompts"
   ]
  },
  {
   "cell_type": "code",
   "execution_count": 8,
   "metadata": {},
   "outputs": [],
   "source": [
    "interface = 'anthropic'"
   ]
  },
  {
   "cell_type": "code",
   "execution_count": 9,
   "metadata": {},
   "outputs": [],
   "source": [
    "\n",
    "def send_prompt(clue: str, resolution_index: int):\n",
    "    iterations = 3\n",
    "    mapped_messages = []\n",
    "\n",
    "    for i in range(iterations):\n",
    "        new_user_message = llm_interfaces.mount_user_prompt(clue, resolution_index, i)\n",
    "        mapped_messages.append(new_user_message)\n",
    "        \n",
    "        new_response = llm_interfaces.call_model(mapped_messages)\n",
    "        \n",
    "        if new_response is False or new_response is None:\n",
    "            break\n",
    "            \n",
    "        new_assistant_message = llm_interfaces.mount_assistant_prompt(new_response)\n",
    "        mapped_messages.append(new_assistant_message)\n",
    "        \n",
    "    mapped_messages.insert(0, \"\\n\\n\\n============ USER ============\\n\\n\\n\")\n",
    "    mapped_messages.insert(2, \"\\n\\n\\n========== ASSISTANT ==========\\n\\n\\n\")\n",
    "    mapped_messages.insert(4, \"\\n\\n\\n============ USER ============\\n\\n\\n\")\n",
    "    mapped_messages.insert(6, \"\\n\\n\\n========== ASSISTANT ==========\\n\\n\\n\")\n",
    "    mapped_messages.insert(8, \"\\n\\n\\n============ USER ============\\n\\n\\n\")\n",
    "    mapped_messages.insert(10, \"\\n\\n\\n========== ASSISTANT ==========\\n\\n\\n\")\n",
    "    \n",
    "    return mapped_messages\n",
    "    \n",
    "def save_result(mapped_messages, resolution_index: int):\n",
    "    result_file = prompts.resolution_methods[resolution_index][\"result_file\"]\n",
    "    os.remove(result_file)\n",
    "    \n",
    "    f = open(result_file, \"x\")\n",
    "    f.write(\"\".join([prompts.get_response_text(message) for message in mapped_messages]))\n",
    "    \n",
    "    f.close()\n",
    "    \n",
    "    return f\"{result_file} done!\""
   ]
  },
  {
   "cell_type": "code",
   "execution_count": null,
   "metadata": {},
   "outputs": [],
   "source": [
    "clue = \"\"\"Tentei subir até o novo comunista que veio de fora, mas cansei bem no começo\"\"\"\n",
    "\n",
    "result = None\n",
    "for i in range(len(resolution_methods)):\n",
    "    result = send_prompt(clue, i)\n",
    "    save_result(result, i)\n",
    "    print(i, \"done!\")\n",
    "    "
   ]
  }
 ],
 "metadata": {
  "language_info": {
   "name": "python"
  }
 },
 "nbformat": 4,
 "nbformat_minor": 2
}
