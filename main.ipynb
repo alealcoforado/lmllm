{
 "cells": [
  {
   "cell_type": "markdown",
   "id": "bb5c1094-ea7d-40ee-a3bd-9022d8e38c35",
   "metadata": {},
   "source": [
    "## Dependencies"
   ]
  },
  {
   "cell_type": "code",
   "execution_count": 1,
   "id": "53229060-b483-447f-b0d9-6d7951c92678",
   "metadata": {},
   "outputs": [
    {
     "name": "stdout",
     "output_type": "stream",
     "text": [
      "Requirement already satisfied: anthropic in /Users/brunomovio/opt/anaconda3/lib/python3.9/site-packages (0.19.2)\n",
      "Requirement already satisfied: tokenizers>=0.13.0 in /Users/brunomovio/opt/anaconda3/lib/python3.9/site-packages (from anthropic) (0.15.2)\n",
      "Requirement already satisfied: anyio<5,>=3.5.0 in /Users/brunomovio/opt/anaconda3/lib/python3.9/site-packages (from anthropic) (3.6.2)\n",
      "Requirement already satisfied: pydantic<3,>=1.9.0 in /Users/brunomovio/opt/anaconda3/lib/python3.9/site-packages (from anthropic) (1.10.2)\n",
      "Requirement already satisfied: typing-extensions<5,>=4.7 in /Users/brunomovio/opt/anaconda3/lib/python3.9/site-packages (from anthropic) (4.10.0)\n",
      "Requirement already satisfied: sniffio in /Users/brunomovio/opt/anaconda3/lib/python3.9/site-packages (from anthropic) (1.3.0)\n",
      "Requirement already satisfied: distro<2,>=1.7.0 in /Users/brunomovio/opt/anaconda3/lib/python3.9/site-packages (from anthropic) (1.9.0)\n",
      "Requirement already satisfied: httpx<1,>=0.23.0 in /Users/brunomovio/opt/anaconda3/lib/python3.9/site-packages (from anthropic) (0.27.0)\n",
      "Requirement already satisfied: idna>=2.8 in /Users/brunomovio/opt/anaconda3/lib/python3.9/site-packages (from anyio<5,>=3.5.0->anthropic) (3.4)\n",
      "Requirement already satisfied: httpcore==1.* in /Users/brunomovio/opt/anaconda3/lib/python3.9/site-packages (from httpx<1,>=0.23.0->anthropic) (1.0.4)\n",
      "Requirement already satisfied: certifi in /Users/brunomovio/opt/anaconda3/lib/python3.9/site-packages (from httpx<1,>=0.23.0->anthropic) (2021.10.8)\n",
      "Requirement already satisfied: h11<0.15,>=0.13 in /Users/brunomovio/opt/anaconda3/lib/python3.9/site-packages (from httpcore==1.*->httpx<1,>=0.23.0->anthropic) (0.14.0)\n",
      "Requirement already satisfied: huggingface_hub<1.0,>=0.16.4 in /Users/brunomovio/opt/anaconda3/lib/python3.9/site-packages (from tokenizers>=0.13.0->anthropic) (0.21.4)\n",
      "Requirement already satisfied: requests in /Users/brunomovio/opt/anaconda3/lib/python3.9/site-packages (from huggingface_hub<1.0,>=0.16.4->tokenizers>=0.13.0->anthropic) (2.26.0)\n",
      "Requirement already satisfied: fsspec>=2023.5.0 in /Users/brunomovio/opt/anaconda3/lib/python3.9/site-packages (from huggingface_hub<1.0,>=0.16.4->tokenizers>=0.13.0->anthropic) (2024.2.0)\n",
      "Requirement already satisfied: tqdm>=4.42.1 in /Users/brunomovio/opt/anaconda3/lib/python3.9/site-packages (from huggingface_hub<1.0,>=0.16.4->tokenizers>=0.13.0->anthropic) (4.62.3)\n",
      "Requirement already satisfied: pyyaml>=5.1 in /Users/brunomovio/opt/anaconda3/lib/python3.9/site-packages (from huggingface_hub<1.0,>=0.16.4->tokenizers>=0.13.0->anthropic) (6.0)\n",
      "Requirement already satisfied: packaging>=20.9 in /Users/brunomovio/opt/anaconda3/lib/python3.9/site-packages (from huggingface_hub<1.0,>=0.16.4->tokenizers>=0.13.0->anthropic) (21.3)\n",
      "Requirement already satisfied: filelock in /Users/brunomovio/opt/anaconda3/lib/python3.9/site-packages (from huggingface_hub<1.0,>=0.16.4->tokenizers>=0.13.0->anthropic) (3.8.0)\n",
      "Requirement already satisfied: pyparsing!=3.0.5,>=2.0.2 in /Users/brunomovio/opt/anaconda3/lib/python3.9/site-packages (from packaging>=20.9->huggingface_hub<1.0,>=0.16.4->tokenizers>=0.13.0->anthropic) (3.0.4)\n",
      "Requirement already satisfied: charset-normalizer~=2.0.0 in /Users/brunomovio/opt/anaconda3/lib/python3.9/site-packages (from requests->huggingface_hub<1.0,>=0.16.4->tokenizers>=0.13.0->anthropic) (2.0.4)\n",
      "Requirement already satisfied: urllib3<1.27,>=1.21.1 in /Users/brunomovio/opt/anaconda3/lib/python3.9/site-packages (from requests->huggingface_hub<1.0,>=0.16.4->tokenizers>=0.13.0->anthropic) (1.26.7)\n",
      "Requirement already satisfied: python-dotenv in /Users/brunomovio/opt/anaconda3/lib/python3.9/site-packages (1.0.1)\n"
     ]
    }
   ],
   "source": [
    "# !pip install anthropic\n",
    "# !pip install python-dotenv"
   ]
  },
  {
   "cell_type": "code",
   "execution_count": 2,
   "id": "81fa363d-5f63-44d3-9c79-be64e9d7d918",
   "metadata": {},
   "outputs": [],
   "source": [
    "import csv\n",
    "import random\n",
    "import anthropic\n",
    "import os\n",
    "import sys"
   ]
  },
  {
   "cell_type": "markdown",
   "id": "a9c01432-2118-4b8e-8717-5d70d5994a01",
   "metadata": {},
   "source": [
    "## Anthropic integration"
   ]
  },
  {
   "cell_type": "code",
   "execution_count": 3,
   "id": "4f3d640b-69e5-44c3-8f70-a2768c148c89",
   "metadata": {},
   "outputs": [],
   "source": [
    "%load_ext dotenv\n",
    "%dotenv\n",
    "\n",
    "client = anthropic.Anthropic(\n",
    "    # defaults to os.environ.get(\"ANTHROPIC_API_KEY\")\n",
    "    api_key=os.getenv(\"ACCESS-KEY\"),\n",
    ")\n",
    "\n",
    "\n",
    "def request_model(mapped_messages):\n",
    "    return client.messages.create(\n",
    "        system=\"\"\"Estamos jogando um jogo chamado \"caça ao tesouro\" da Escola Politécnica da USP, onde recebemos uma pista em formato de enigma e devemos decodifidar a mensagem da pista, que geralmente remete a conceitos e/ou direto a localizações dentro da USP. Nós passamos de etapa no jogo quando encontramos um pequeno papel, cujo conteúdo será a próxima pista, em um lugar da USP. Costumamos chamar o local de \"macro\"  (por exemplo, Rua do Matão, Prédio da História e Geografia da FFLCH, Centro de Difusão Internacional (CDI)...), e o local específico onde o papel será encontrado de \"micro\" (por ex, extintor de incêndio, Praça do Cavalo, ou o \"totem\" que contém o nome do Instituto).  É muito comum que partes da resolução da pista remetam a eventos ou personagens históricos ou fictícios. Há vários métodos de resolução para as pistas: alguns exemplos são associações com elementos de cultura \"pop\", isto é, elementos que sejam reconhecíveis por adultos de 20 a 25 anos; elementos ou fatos históricos, do Brasil, do mundo ou da Universidade de São Paulo, ou com mitologia (incluindo mitologia cristã/bíblia etc); jogos de palavras e/ou sons, desambiguação de siglas, ou referências diretas a localidades e/ou obras de arte internas ou externas à Cidade Universitária da USP (Butantã). Quando necessário, você deve buscar na web por informações históricas de pessoas, eventos ou lugares para tentar estabelecer essa relação ou analogia com a USP.\"\"\",\n",
    "        model=\"claude-3-sonnet-20240229\",\n",
    "        max_tokens=1000,\n",
    "        temperature=0.3,\n",
    "        messages=mapped_messages\n",
    "    )\n",
    "\n",
    "\n",
    "def get_prompt_text_answer(prompt):\n",
    "    return prompt.content[0].text\n",
    "\n",
    "\n",
    "def get_prompt_dict_text_answer(prompt):\n",
    "    if (isinstance(prompt, str)):\n",
    "        return prompt\n",
    "    return prompt[\"content\"][0][\"text\"]"
   ]
  },
  {
   "cell_type": "markdown",
   "id": "420e4c8a-d04b-41fa-a883-810e646ddc47",
   "metadata": {},
   "source": [
    "## Get details by Resolution Method"
   ]
  },
  {
   "cell_type": "code",
   "execution_count": 4,
   "id": "fc879129-f1ab-4cd3-8f00-79f8164fa6ee",
   "metadata": {},
   "outputs": [],
   "source": [
    "resolution_methods = [\n",
    "    {\n",
    "        \"column\": \"1-jogo-de-palavras-anagrama-cacofonia\", \n",
    "        \"method_file\": \"methods/method_0.txt\",\n",
    "        \"result_file\": \"results/jogo-de-palavras.txt\"\n",
    "    },\n",
    "    {\n",
    "        \"column\": \"2-ref-visual-observavel-team-rua\", \n",
    "        \"method_file\": \"methods/method_1.txt\",\n",
    "        \"result_file\": \"results/ref-visual.txt\"\n",
    "    },\n",
    "    {\n",
    "        \"column\": \"3-criptografia\", \n",
    "        \"method_file\": \"methods/method_2.txt\",\n",
    "        \"result_file\": \"results/criptografia.txt\"\n",
    "    },\n",
    "    {\n",
    "        \"column\": \"4-ref-historica-mitologia\", \n",
    "        \"method_file\": \"methods/method_3.txt\",\n",
    "        \"result_file\": \"results/ref-historica.txt\"\n",
    "    },\n",
    "    {\n",
    "        \"column\": \"5-cultura-pop-conhecimento-geral\", \n",
    "        \"method_file\": \"methods/method_4.txt\",\n",
    "        \"result_file\": \"results/cultura-pop.txt\"\n",
    "    },\n",
    "    {\n",
    "        \"column\": \"6-ref-interna-cidade-universitaria\", \n",
    "        \"method_file\": \"methods/method_5.txt\",\n",
    "        \"result_file\": \"results/ref-interna.txt\"\n",
    "    },\n",
    "    {\n",
    "        \"column\": \"7-ref-externa-campus\", \n",
    "        \"method_file\": \"methods/method_6.txt\",\n",
    "        \"result_file\": \"results/ref-externa.txt\"\n",
    "    },\n",
    "    {\n",
    "        \"column\": \"8-caminho-trajetória-roteiro\", \n",
    "        \"method_file\": \"methods/method_7.txt\",\n",
    "        \"result_file\": \"results/caminho.txt\"\n",
    "    },\n",
    "    {\n",
    "        \"column\": \"9-manipular-imagens\", \n",
    "        \"method_file\": \"methods/method_8.txt\",\n",
    "        \"result_file\": \"results/manipular-imagens.txt\"\n",
    "    },\n",
    "    {\n",
    "        \"column\": \"10-busca-listas-elencaçoes-clusters\", \n",
    "        \"method_file\": \"methods/method_9.txt\",\n",
    "        \"result_file\": \"results/listas.txt\"\n",
    "    },\n",
    "    {\n",
    "        \"column\": \"11-links-site-integra-daquele-ano\", \n",
    "        \"method_file\": \"methods/method_10.txt\",\n",
    "        \"result_file\": \"results/site.txt\"\n",
    "    },\n",
    "    {\n",
    "        \"column\": \"12-tarefa-não-papel\", \n",
    "        \"method_file\": \"methods/method_11.txt\",\n",
    "        \"result_file\": \"results/nao-papel.txt\"\n",
    "    }\n",
    "]\n"
   ]
  },
  {
   "cell_type": "code",
   "execution_count": 5,
   "id": "0eb5126e-90bd-42f7-9aaf-b4299cf3645f",
   "metadata": {},
   "outputs": [],
   "source": [
    "def get_method_resolution(resolution_method_file: str):\n",
    "    method_file = open(resolution_method_file, newline='')\n",
    "    description = method_file.read()\n",
    "    method_file.close()\n",
    "        \n",
    "    return description\n",
    "\n",
    "\n",
    "def get_train_clues(resolution_method_name: str, amount: int):\n",
    "    train_clues = []\n",
    "    with open('base.csv', newline='') as csvfile:\n",
    "        reader = csv.DictReader(csvfile)\n",
    "    \n",
    "        for row in reader:\n",
    "            if row[resolution_method_name] == \"1\":\n",
    "                train_clues.append(row[\"prompt\"])\n",
    "    \n",
    "    return random.sample(train_clues, amount)"
   ]
  },
  {
   "cell_type": "markdown",
   "id": "da3c356b-4ca3-45e1-8bec-0e1c87175b23",
   "metadata": {},
   "source": [
    "## Mount prompts"
   ]
  },
  {
   "cell_type": "code",
   "execution_count": 6,
   "id": "22913dff-efa6-4718-9f40-5423f3252505",
   "metadata": {},
   "outputs": [],
   "source": [
    "def first_prompt(clue: str):\n",
    "    text = \"Estamos jogando um jogo chamado ''caça ao tesouro'' da Escola Politécnica da USP, onde recebemos uma pista em formato de enigma e devemos decodifidar a mensagem da pista, que geralmente remete a conceitos e/ou direto a localizações dentro da USP (campus CUASO). Nós passamos de etapa no jogo quando encontramos um pequeno papel, cujo conteúdo será a próxima pista, em um lugar da USP. Costumamos chamar o local de ''macro''  (por exemplo, Rua do Matão, Prédio da História e Geografia da FFLCH, Centro de Difusão Internacional (CDI)...), e o local específico onde o papel será encontrado de \"\"micro\"\" (por ex, extintor de incêndio, Praça do Cavalo, ou o \"\"totem\"\" que contém o nome do Instituto).  É muito comum que partes da resolução da pista remetam a eventos ou personagens históricos ou fictícios. Em geral, as associações serão com elementos de cultura ''pop'', isto é, elementos que sejam reconhecíveis por adultos de 20 a 25 anos, principal faixa dos participantes da caça ao tesouro. Quando necessário, você deve buscar na web por informações históricas de pessoas, eventos ou lugares que tenham alguma relação com a USP.\\n\"\n",
    "    text += \"Abaixo estarão algumas pistas e o exemplo de resolução da pista, junto com o macro e o micro onde o papel seguinte foi encontrado.\\n\"\n",
    "    text += \"||Pista: やめて！これが私の家, え? そうではない! | Explicação: やめて！ = Pare! ; これが私の家, え? = Kore ga watashinoie, e? > Jogo sonoro para IEE ao final da frase. そうではない! é uma negação, dizendo que não, esta não é minha casa (ou seja, não é CCJ) | Macro: IEE | Micro: Placa de Pare\\n\"\n",
    "    text += \"||Pista: O meu irmão vive junto ao descobridor, já eu tenho uma grande paixão pelo mar | Explicação: Descobridor = Pedro Alvares Cabral - Na avenida Pedro Alvares tem o MAC - USP do ibirapuera. Paixão pelo mar = ultramarinho (obra no mac). | Macro: MAC | Micro: Ultramarino\\n\"\n",
    "    text += \"||Pista: Se o peixe do sr. hacker fosse nativo brasileiro ele entenderia ecgh>iecfaei | Explicação: Sr. Hacker -> Mr. Robot, o peixe dele chama QWERTY. Existe um teclado chamado BR-Nativo. Fazendo a conversão da ''sobre as ondas''. (podemos mudar o lugar se quiser) | Macro: Bio | Micro: Edificio ''Sobre as Ondas''\\n\"\n",
    "    text += \"||Pista: Entre o marechal e a república, ele nos deu a obra de sua linha do seu ritmo e vibração | Explicação: Entre as estações Marechal Deodoro e Republica é a estação Santa Cecilia do metro. Trilho, Ritmo e Vibração é uma arte do Caciporé Torres nesta estação. Rei é para indicar que é a escultura do Torres que esta na Reitoria. | Macro: Reitoria Nova | Micro: ''AConstrução''/Caciporé Torres\\n\"\n",
    "    text += \"||Pista: Olhando a família e educação é notável que uma Boa Ideia do MEC passou a infância e adolescência entre a capital e a bela chuva | Explicação: Boa ideia leva a 51. O 51º ministro do MEC é José Mendonça B. Filho. Olhando o perfil dele no wikipedia na seção ''famila e edcucação'' a frase está ''viveu entre a capitão e belo jardim''. Jardim + Chuva | Macro: Hidráulica | Micro: Jardim de Chuva\\n\"\n",
    "    text += \"||Pista: casoEnsolarado | Explicação: A pista está escrita em camelCase, Ensolarado leva a FAU. Camelo é sinonimo para bicicleta em vários estados do Brasil. | Macro: FAU | Micro: Bicicletário\\n\"\n",
    "    text += \"||Pista: Zero a esquerda e 1308 donas? Menos... com um zero a esquerda só cinquenta bastam | Explicação: 01308-050 CEP - Rua Dona Adma Jafet - > Auditório na Física | Macro: IF | Micro: Auditório Adma Jafet\\n\"\n",
    "    text += \"A pista atual está abaixo. Raciocine passo-a-passo, buscando informações na web se julgar necessário, e vamos tentar gerar uma explicação que remeta a um Macro e um Micro onde deveremos procurar o papel com a próxima pista. Lembre-se que é incomum que haja redundância nos trechos da pista. Ou seja, se uma parte da pista remete ao Macro, provavelmente essa mesma parte não remete também ao Micro. Da mesma forma se uma parte já remete ao Macro, a outra parte provavelmente remete ao Micro ou a uma info auxiliar que confirme o Macro. Se precisar, pode me fazer perguntas para que eu explique algumas siglas ou qualquer outra coisa que achar necessário.\\n\"\n",
    "    \n",
    "    text += f\"||Pista: {clue}\"\n",
    "    \n",
    "    return text"
   ]
  },
  {
   "cell_type": "code",
   "execution_count": 7,
   "id": "3585695a-077f-480b-9460-9aaa9769c293",
   "metadata": {},
   "outputs": [],
   "source": [
    "def second_prompt(clue: str, resolution_index: int):\n",
    "    resolution_method_details = resolution_methods[resolution_index]\n",
    "    description = get_method_resolution(resolution_method_details[\"method_file\"])\n",
    "    train_clues = get_train_clues(resolution_method_details[\"column\"], 1)\n",
    "    \n",
    "    text = \"Vamos aprofundar nosso raciocínio. Baseado no que falamos anteriormente, vamos investigar o método de resolução abaixo:\"\n",
    "    text += description\n",
    "    text += \"\\nAbaixo, seguem alguns exemplos que usam este mesmo método de resolução\"\n",
    "    text += \"\\n\".join(train_clues)\n",
    "    text += \"A pista atual está abaixo. Raciocine passo-a-passo, buscando informações na web se julgar necessário, e vamos tentar gerar uma explicação que remeta a um Macro e um Micro onde deveremos procurar o papel com a próxima pista. Lembre-se que é incomum que haja redundância nos trechos da pista. Ou seja, se uma parte da pista remete ao Macro, provavelmente essa mesma parte não remete também ao Micro. Da mesma forma se uma parte já remete ao Macro, a outra parte provavelmente remete ao Micro ou a uma info auxiliar que confirme o Macro. Se precisar, pode me fazer perguntas para que eu explique algumas siglas ou qualquer outra coisa que achar necessário.\\n\"\n",
    "    text += f\"||Pista: {clue}\"\n",
    "    \n",
    "    return text"
   ]
  },
  {
   "cell_type": "code",
   "execution_count": 8,
   "id": "c7524075-1676-4b90-949d-edeb049fdb30",
   "metadata": {},
   "outputs": [],
   "source": [
    "def third_prompt():\n",
    "    text = \"Sintetize as hipóteses levantadas até aqui, e  escreva um vetor (python list) de JSONs com chaves 'macro', 'explicação' (resumida) e 'micro' (quando houver)\"\n",
    "    \n",
    "    return text"
   ]
  },
  {
   "cell_type": "code",
   "execution_count": 9,
   "id": "39e1e721-bb47-48d9-a08c-3108e0a5fce9",
   "metadata": {},
   "outputs": [],
   "source": [
    "def get_prompt(clue: str, resolution_index: int, position: int):\n",
    "    if position == 0:\n",
    "        return first_prompt(clue)\n",
    "    if position == 1:\n",
    "        return second_prompt(clue, resolution_index)\n",
    "    if position == 2:\n",
    "        return third_prompt()\n",
    "    return third_prompt()"
   ]
  },
  {
   "cell_type": "code",
   "execution_count": 10,
   "id": "25b367dd-c6ed-4b08-9983-5441b8217e2e",
   "metadata": {},
   "outputs": [],
   "source": [
    "def mount_user_prompt(clue, resolution_index, i):\n",
    "    return {\n",
    "        \"role\": \"user\",\n",
    "        \"content\": [\n",
    "            {\n",
    "                \"type\": \"text\",\n",
    "                \"text\": get_prompt(clue, resolution_index, i)\n",
    "            }\n",
    "        ]\n",
    "    }\n",
    "\n",
    "\n",
    "def mount_assistant_prompt(new_response):\n",
    "    return {\n",
    "        \"role\": \"assistant\",\n",
    "        \"content\": [\n",
    "            {\n",
    "                \"type\": \"text\",\n",
    "                \"text\": get_prompt_text_answer(new_response)\n",
    "            }\n",
    "        ]\n",
    "    }"
   ]
  },
  {
   "cell_type": "markdown",
   "id": "3a38040d-e5cd-43ef-bf5c-558455384232",
   "metadata": {},
   "source": [
    "## Main flow"
   ]
  },
  {
   "cell_type": "code",
   "execution_count": 11,
   "id": "c738e455-4482-4c5b-a5db-bf0ec4306906",
   "metadata": {},
   "outputs": [],
   "source": [
    "def send_prompt(clue: str, resolution_index: int):\n",
    "    iterations = 3\n",
    "    mapped_messages = []\n",
    "\n",
    "    for i in range(iterations):\n",
    "        new_user_message = mount_user_prompt(clue, resolution_index, i)\n",
    "        mapped_messages.append(new_user_message)\n",
    "        \n",
    "        new_response = request_model(mapped_messages)\n",
    "        new_assistant_message = mount_assistant_prompt(new_response)\n",
    "        mapped_messages.append(new_assistant_message)\n",
    "        \n",
    "    mapped_messages.insert(0, \"============ USER ============\")\n",
    "    mapped_messages.insert(2, \"========== ASSISTANT ==========\")\n",
    "    mapped_messages.insert(4, \"============ USER ============\")\n",
    "    mapped_messages.insert(6, \"========== ASSISTANT ==========\")\n",
    "    mapped_messages.insert(8, \"============ USER ============\")\n",
    "    mapped_messages.insert(10, \"========== ASSISTANT ==========\")\n",
    "    \n",
    "    return mapped_messages\n",
    "    \n",
    "def save_result(mapped_messages, resolution_index: int):\n",
    "    result_file = resolution_methods[resolution_index][\"result_file\"]\n",
    "    os.remove(result_file)\n",
    "    \n",
    "    f = open(result_file, \"x\")\n",
    "    f.write(\"\".join([get_prompt_dict_text_answer(message) for message in mapped_messages]))\n",
    "    \n",
    "    f.close()\n",
    "    \n",
    "    return f\"{result_file} done!\""
   ]
  },
  {
   "cell_type": "markdown",
   "id": "77e3b9d3-ab08-4a04-b28e-24bbed721cb3",
   "metadata": {},
   "source": [
    "## Tests"
   ]
  },
  {
   "cell_type": "code",
   "execution_count": 12,
   "id": "70dd2bf8-612a-445e-afc8-c994c82b4350",
   "metadata": {},
   "outputs": [
    {
     "name": "stdout",
     "output_type": "stream",
     "text": [
      "0 done!\n",
      "1 done!\n",
      "2 done!\n",
      "3 done!\n",
      "4 done!\n",
      "5 done!\n",
      "6 done!\n",
      "7 done!\n"
     ]
    },
    {
     "ename": "RateLimitError",
     "evalue": "Error code: 429 - {'type': 'error', 'error': {'type': 'rate_limit_error', 'message': 'Number of requests has exceeded your rate limit (https://docs.anthropic.com/claude/reference/rate-limits). Please try again later or contact sales at https://www.anthropic.com/contact-sales to discuss your options for a rate limit increase.'}}",
     "output_type": "error",
     "traceback": [
      "\u001b[0;31m---------------------------------------------------------------------------\u001b[0m",
      "\u001b[0;31mRateLimitError\u001b[0m                            Traceback (most recent call last)",
      "\u001b[0;32m/var/folders/3q/6jth0tdj1csdjbvlwntrls5c0000gn/T/ipykernel_37025/2631881052.py\u001b[0m in \u001b[0;36m<module>\u001b[0;34m\u001b[0m\n\u001b[1;32m      3\u001b[0m \u001b[0mresult\u001b[0m \u001b[0;34m=\u001b[0m \u001b[0;34m{\u001b[0m\u001b[0;34m}\u001b[0m\u001b[0;34m\u001b[0m\u001b[0;34m\u001b[0m\u001b[0m\n\u001b[1;32m      4\u001b[0m \u001b[0;32mfor\u001b[0m \u001b[0mi\u001b[0m \u001b[0;32min\u001b[0m \u001b[0mrange\u001b[0m\u001b[0;34m(\u001b[0m\u001b[0mlen\u001b[0m\u001b[0;34m(\u001b[0m\u001b[0mresolution_methods\u001b[0m\u001b[0;34m)\u001b[0m\u001b[0;34m)\u001b[0m\u001b[0;34m:\u001b[0m\u001b[0;34m\u001b[0m\u001b[0;34m\u001b[0m\u001b[0m\n\u001b[0;32m----> 5\u001b[0;31m     \u001b[0mresult\u001b[0m \u001b[0;34m=\u001b[0m \u001b[0msend_prompt\u001b[0m\u001b[0;34m(\u001b[0m\u001b[0mclue\u001b[0m\u001b[0;34m,\u001b[0m \u001b[0mi\u001b[0m\u001b[0;34m)\u001b[0m\u001b[0;34m\u001b[0m\u001b[0;34m\u001b[0m\u001b[0m\n\u001b[0m\u001b[1;32m      6\u001b[0m     \u001b[0msave_result\u001b[0m\u001b[0;34m(\u001b[0m\u001b[0mresult\u001b[0m\u001b[0;34m,\u001b[0m \u001b[0mi\u001b[0m\u001b[0;34m)\u001b[0m\u001b[0;34m\u001b[0m\u001b[0;34m\u001b[0m\u001b[0m\n\u001b[1;32m      7\u001b[0m     \u001b[0mprint\u001b[0m\u001b[0;34m(\u001b[0m\u001b[0mi\u001b[0m\u001b[0;34m,\u001b[0m \u001b[0;34m\"done!\"\u001b[0m\u001b[0;34m)\u001b[0m\u001b[0;34m\u001b[0m\u001b[0;34m\u001b[0m\u001b[0m\n",
      "\u001b[0;32m/var/folders/3q/6jth0tdj1csdjbvlwntrls5c0000gn/T/ipykernel_37025/1944458403.py\u001b[0m in \u001b[0;36msend_prompt\u001b[0;34m(clue, resolution_index)\u001b[0m\n\u001b[1;32m      7\u001b[0m         \u001b[0mmapped_messages\u001b[0m\u001b[0;34m.\u001b[0m\u001b[0mappend\u001b[0m\u001b[0;34m(\u001b[0m\u001b[0mnew_user_message\u001b[0m\u001b[0;34m)\u001b[0m\u001b[0;34m\u001b[0m\u001b[0;34m\u001b[0m\u001b[0m\n\u001b[1;32m      8\u001b[0m \u001b[0;34m\u001b[0m\u001b[0m\n\u001b[0;32m----> 9\u001b[0;31m         \u001b[0mnew_response\u001b[0m \u001b[0;34m=\u001b[0m \u001b[0mrequest_model\u001b[0m\u001b[0;34m(\u001b[0m\u001b[0mmapped_messages\u001b[0m\u001b[0;34m)\u001b[0m\u001b[0;34m\u001b[0m\u001b[0;34m\u001b[0m\u001b[0m\n\u001b[0m\u001b[1;32m     10\u001b[0m         \u001b[0mnew_assistant_message\u001b[0m \u001b[0;34m=\u001b[0m \u001b[0mmount_assistant_prompt\u001b[0m\u001b[0;34m(\u001b[0m\u001b[0mnew_response\u001b[0m\u001b[0;34m)\u001b[0m\u001b[0;34m\u001b[0m\u001b[0;34m\u001b[0m\u001b[0m\n\u001b[1;32m     11\u001b[0m         \u001b[0mmapped_messages\u001b[0m\u001b[0;34m.\u001b[0m\u001b[0mappend\u001b[0m\u001b[0;34m(\u001b[0m\u001b[0mnew_assistant_message\u001b[0m\u001b[0;34m)\u001b[0m\u001b[0;34m\u001b[0m\u001b[0;34m\u001b[0m\u001b[0m\n",
      "\u001b[0;32m/var/folders/3q/6jth0tdj1csdjbvlwntrls5c0000gn/T/ipykernel_37025/461223555.py\u001b[0m in \u001b[0;36mrequest_model\u001b[0;34m(mapped_messages)\u001b[0m\n\u001b[1;32m      9\u001b[0m \u001b[0;34m\u001b[0m\u001b[0m\n\u001b[1;32m     10\u001b[0m \u001b[0;32mdef\u001b[0m \u001b[0mrequest_model\u001b[0m\u001b[0;34m(\u001b[0m\u001b[0mmapped_messages\u001b[0m\u001b[0;34m)\u001b[0m\u001b[0;34m:\u001b[0m\u001b[0;34m\u001b[0m\u001b[0;34m\u001b[0m\u001b[0m\n\u001b[0;32m---> 11\u001b[0;31m     return client.messages.create(\n\u001b[0m\u001b[1;32m     12\u001b[0m         \u001b[0msystem\u001b[0m\u001b[0;34m=\u001b[0m\u001b[0;34m\"\"\"Estamos jogando um jogo chamado \"caça ao tesouro\" da Escola Politécnica da USP, onde recebemos uma pista em formato de enigma e devemos decodifidar a mensagem da pista, que geralmente remete a conceitos e/ou direto a localizações dentro da USP. Nós passamos de etapa no jogo quando encontramos um pequeno papel, cujo conteúdo será a próxima pista, em um lugar da USP. Costumamos chamar o local de \"macro\"  (por exemplo, Rua do Matão, Prédio da História e Geografia da FFLCH, Centro de Difusão Internacional (CDI)...), e o local específico onde o papel será encontrado de \"micro\" (por ex, extintor de incêndio, Praça do Cavalo, ou o \"totem\" que contém o nome do Instituto).  É muito comum que partes da resolução da pista remetam a eventos ou personagens históricos ou fictícios. Há vários métodos de resolução para as pistas: alguns exemplos são associações com elementos de cultura \"pop\", isto é, elementos que sejam reconhecíveis por adultos de 20 a 25 anos; elementos ou fatos históricos, do Brasil, do mundo ou da Universidade de São Paulo, ou com mitologia (incluindo mitologia cristã/bíblia etc); jogos de palavras e/ou sons, desambiguação de siglas, ou referências diretas a localidades e/ou obras de arte internas ou externas à Cidade Universitária da USP (Butantã). Quando necessário, você deve buscar na web por informações históricas de pessoas, eventos ou lugares para tentar estabelecer essa relação ou analogia com a USP.\"\"\"\u001b[0m\u001b[0;34m,\u001b[0m\u001b[0;34m\u001b[0m\u001b[0;34m\u001b[0m\u001b[0m\n\u001b[1;32m     13\u001b[0m         \u001b[0mmodel\u001b[0m\u001b[0;34m=\u001b[0m\u001b[0;34m\"claude-3-sonnet-20240229\"\u001b[0m\u001b[0;34m,\u001b[0m\u001b[0;34m\u001b[0m\u001b[0;34m\u001b[0m\u001b[0m\n",
      "\u001b[0;32m~/opt/anaconda3/lib/python3.9/site-packages/anthropic/_utils/_utils.py\u001b[0m in \u001b[0;36mwrapper\u001b[0;34m(*args, **kwargs)\u001b[0m\n\u001b[1;32m    273\u001b[0m                         \u001b[0mmsg\u001b[0m \u001b[0;34m=\u001b[0m \u001b[0;34mf\"Missing required argument: {quote(missing[0])}\"\u001b[0m\u001b[0;34m\u001b[0m\u001b[0;34m\u001b[0m\u001b[0m\n\u001b[1;32m    274\u001b[0m                 \u001b[0;32mraise\u001b[0m \u001b[0mTypeError\u001b[0m\u001b[0;34m(\u001b[0m\u001b[0mmsg\u001b[0m\u001b[0;34m)\u001b[0m\u001b[0;34m\u001b[0m\u001b[0;34m\u001b[0m\u001b[0m\n\u001b[0;32m--> 275\u001b[0;31m             \u001b[0;32mreturn\u001b[0m \u001b[0mfunc\u001b[0m\u001b[0;34m(\u001b[0m\u001b[0;34m*\u001b[0m\u001b[0margs\u001b[0m\u001b[0;34m,\u001b[0m \u001b[0;34m**\u001b[0m\u001b[0mkwargs\u001b[0m\u001b[0;34m)\u001b[0m\u001b[0;34m\u001b[0m\u001b[0;34m\u001b[0m\u001b[0m\n\u001b[0m\u001b[1;32m    276\u001b[0m \u001b[0;34m\u001b[0m\u001b[0m\n\u001b[1;32m    277\u001b[0m         \u001b[0;32mreturn\u001b[0m \u001b[0mwrapper\u001b[0m  \u001b[0;31m# type: ignore\u001b[0m\u001b[0;34m\u001b[0m\u001b[0;34m\u001b[0m\u001b[0m\n",
      "\u001b[0;32m~/opt/anaconda3/lib/python3.9/site-packages/anthropic/resources/messages.py\u001b[0m in \u001b[0;36mcreate\u001b[0;34m(self, max_tokens, messages, model, metadata, stop_sequences, stream, system, temperature, top_k, top_p, extra_headers, extra_query, extra_body, timeout)\u001b[0m\n\u001b[1;32m    656\u001b[0m         \u001b[0mtimeout\u001b[0m\u001b[0;34m:\u001b[0m \u001b[0mfloat\u001b[0m \u001b[0;34m|\u001b[0m \u001b[0mhttpx\u001b[0m\u001b[0;34m.\u001b[0m\u001b[0mTimeout\u001b[0m \u001b[0;34m|\u001b[0m \u001b[0;32mNone\u001b[0m \u001b[0;34m|\u001b[0m \u001b[0mNotGiven\u001b[0m \u001b[0;34m=\u001b[0m \u001b[0;36m600\u001b[0m\u001b[0;34m,\u001b[0m\u001b[0;34m\u001b[0m\u001b[0;34m\u001b[0m\u001b[0m\n\u001b[1;32m    657\u001b[0m     ) -> Message | Stream[MessageStreamEvent]:\n\u001b[0;32m--> 658\u001b[0;31m         return self._post(\n\u001b[0m\u001b[1;32m    659\u001b[0m             \u001b[0;34m\"/v1/messages\"\u001b[0m\u001b[0;34m,\u001b[0m\u001b[0;34m\u001b[0m\u001b[0;34m\u001b[0m\u001b[0m\n\u001b[1;32m    660\u001b[0m             body=maybe_transform(\n",
      "\u001b[0;32m~/opt/anaconda3/lib/python3.9/site-packages/anthropic/_base_client.py\u001b[0m in \u001b[0;36mpost\u001b[0;34m(self, path, cast_to, body, options, files, stream, stream_cls)\u001b[0m\n\u001b[1;32m   1206\u001b[0m             \u001b[0mmethod\u001b[0m\u001b[0;34m=\u001b[0m\u001b[0;34m\"post\"\u001b[0m\u001b[0;34m,\u001b[0m \u001b[0murl\u001b[0m\u001b[0;34m=\u001b[0m\u001b[0mpath\u001b[0m\u001b[0;34m,\u001b[0m \u001b[0mjson_data\u001b[0m\u001b[0;34m=\u001b[0m\u001b[0mbody\u001b[0m\u001b[0;34m,\u001b[0m \u001b[0mfiles\u001b[0m\u001b[0;34m=\u001b[0m\u001b[0mto_httpx_files\u001b[0m\u001b[0;34m(\u001b[0m\u001b[0mfiles\u001b[0m\u001b[0;34m)\u001b[0m\u001b[0;34m,\u001b[0m \u001b[0;34m**\u001b[0m\u001b[0moptions\u001b[0m\u001b[0;34m\u001b[0m\u001b[0;34m\u001b[0m\u001b[0m\n\u001b[1;32m   1207\u001b[0m         )\n\u001b[0;32m-> 1208\u001b[0;31m         \u001b[0;32mreturn\u001b[0m \u001b[0mcast\u001b[0m\u001b[0;34m(\u001b[0m\u001b[0mResponseT\u001b[0m\u001b[0;34m,\u001b[0m \u001b[0mself\u001b[0m\u001b[0;34m.\u001b[0m\u001b[0mrequest\u001b[0m\u001b[0;34m(\u001b[0m\u001b[0mcast_to\u001b[0m\u001b[0;34m,\u001b[0m \u001b[0mopts\u001b[0m\u001b[0;34m,\u001b[0m \u001b[0mstream\u001b[0m\u001b[0;34m=\u001b[0m\u001b[0mstream\u001b[0m\u001b[0;34m,\u001b[0m \u001b[0mstream_cls\u001b[0m\u001b[0;34m=\u001b[0m\u001b[0mstream_cls\u001b[0m\u001b[0;34m)\u001b[0m\u001b[0;34m)\u001b[0m\u001b[0;34m\u001b[0m\u001b[0;34m\u001b[0m\u001b[0m\n\u001b[0m\u001b[1;32m   1209\u001b[0m \u001b[0;34m\u001b[0m\u001b[0m\n\u001b[1;32m   1210\u001b[0m     def patch(\n",
      "\u001b[0;32m~/opt/anaconda3/lib/python3.9/site-packages/anthropic/_base_client.py\u001b[0m in \u001b[0;36mrequest\u001b[0;34m(self, cast_to, options, remaining_retries, stream, stream_cls)\u001b[0m\n\u001b[1;32m    895\u001b[0m         \u001b[0mstream_cls\u001b[0m\u001b[0;34m:\u001b[0m \u001b[0mtype\u001b[0m\u001b[0;34m[\u001b[0m\u001b[0m_StreamT\u001b[0m\u001b[0;34m]\u001b[0m \u001b[0;34m|\u001b[0m \u001b[0;32mNone\u001b[0m \u001b[0;34m=\u001b[0m \u001b[0;32mNone\u001b[0m\u001b[0;34m,\u001b[0m\u001b[0;34m\u001b[0m\u001b[0;34m\u001b[0m\u001b[0m\n\u001b[1;32m    896\u001b[0m     ) -> ResponseT | _StreamT:\n\u001b[0;32m--> 897\u001b[0;31m         return self._request(\n\u001b[0m\u001b[1;32m    898\u001b[0m             \u001b[0mcast_to\u001b[0m\u001b[0;34m=\u001b[0m\u001b[0mcast_to\u001b[0m\u001b[0;34m,\u001b[0m\u001b[0;34m\u001b[0m\u001b[0;34m\u001b[0m\u001b[0m\n\u001b[1;32m    899\u001b[0m             \u001b[0moptions\u001b[0m\u001b[0;34m=\u001b[0m\u001b[0moptions\u001b[0m\u001b[0;34m,\u001b[0m\u001b[0;34m\u001b[0m\u001b[0;34m\u001b[0m\u001b[0m\n",
      "\u001b[0;32m~/opt/anaconda3/lib/python3.9/site-packages/anthropic/_base_client.py\u001b[0m in \u001b[0;36m_request\u001b[0;34m(self, cast_to, options, remaining_retries, stream, stream_cls)\u001b[0m\n\u001b[1;32m    971\u001b[0m             \u001b[0;32mif\u001b[0m \u001b[0mretries\u001b[0m \u001b[0;34m>\u001b[0m \u001b[0;36m0\u001b[0m \u001b[0;32mand\u001b[0m \u001b[0mself\u001b[0m\u001b[0;34m.\u001b[0m\u001b[0m_should_retry\u001b[0m\u001b[0;34m(\u001b[0m\u001b[0merr\u001b[0m\u001b[0;34m.\u001b[0m\u001b[0mresponse\u001b[0m\u001b[0;34m)\u001b[0m\u001b[0;34m:\u001b[0m\u001b[0;34m\u001b[0m\u001b[0;34m\u001b[0m\u001b[0m\n\u001b[1;32m    972\u001b[0m                 \u001b[0merr\u001b[0m\u001b[0;34m.\u001b[0m\u001b[0mresponse\u001b[0m\u001b[0;34m.\u001b[0m\u001b[0mclose\u001b[0m\u001b[0;34m(\u001b[0m\u001b[0;34m)\u001b[0m\u001b[0;34m\u001b[0m\u001b[0;34m\u001b[0m\u001b[0m\n\u001b[0;32m--> 973\u001b[0;31m                 return self._retry_request(\n\u001b[0m\u001b[1;32m    974\u001b[0m                     \u001b[0moptions\u001b[0m\u001b[0;34m,\u001b[0m\u001b[0;34m\u001b[0m\u001b[0;34m\u001b[0m\u001b[0m\n\u001b[1;32m    975\u001b[0m                     \u001b[0mcast_to\u001b[0m\u001b[0;34m,\u001b[0m\u001b[0;34m\u001b[0m\u001b[0;34m\u001b[0m\u001b[0m\n",
      "\u001b[0;32m~/opt/anaconda3/lib/python3.9/site-packages/anthropic/_base_client.py\u001b[0m in \u001b[0;36m_retry_request\u001b[0;34m(self, options, cast_to, remaining_retries, response_headers, stream, stream_cls)\u001b[0m\n\u001b[1;32m   1019\u001b[0m         \u001b[0mtime\u001b[0m\u001b[0;34m.\u001b[0m\u001b[0msleep\u001b[0m\u001b[0;34m(\u001b[0m\u001b[0mtimeout\u001b[0m\u001b[0;34m)\u001b[0m\u001b[0;34m\u001b[0m\u001b[0;34m\u001b[0m\u001b[0m\n\u001b[1;32m   1020\u001b[0m \u001b[0;34m\u001b[0m\u001b[0m\n\u001b[0;32m-> 1021\u001b[0;31m         return self._request(\n\u001b[0m\u001b[1;32m   1022\u001b[0m             \u001b[0moptions\u001b[0m\u001b[0;34m=\u001b[0m\u001b[0moptions\u001b[0m\u001b[0;34m,\u001b[0m\u001b[0;34m\u001b[0m\u001b[0;34m\u001b[0m\u001b[0m\n\u001b[1;32m   1023\u001b[0m             \u001b[0mcast_to\u001b[0m\u001b[0;34m=\u001b[0m\u001b[0mcast_to\u001b[0m\u001b[0;34m,\u001b[0m\u001b[0;34m\u001b[0m\u001b[0;34m\u001b[0m\u001b[0m\n",
      "\u001b[0;32m~/opt/anaconda3/lib/python3.9/site-packages/anthropic/_base_client.py\u001b[0m in \u001b[0;36m_request\u001b[0;34m(self, cast_to, options, remaining_retries, stream, stream_cls)\u001b[0m\n\u001b[1;32m    971\u001b[0m             \u001b[0;32mif\u001b[0m \u001b[0mretries\u001b[0m \u001b[0;34m>\u001b[0m \u001b[0;36m0\u001b[0m \u001b[0;32mand\u001b[0m \u001b[0mself\u001b[0m\u001b[0;34m.\u001b[0m\u001b[0m_should_retry\u001b[0m\u001b[0;34m(\u001b[0m\u001b[0merr\u001b[0m\u001b[0;34m.\u001b[0m\u001b[0mresponse\u001b[0m\u001b[0;34m)\u001b[0m\u001b[0;34m:\u001b[0m\u001b[0;34m\u001b[0m\u001b[0;34m\u001b[0m\u001b[0m\n\u001b[1;32m    972\u001b[0m                 \u001b[0merr\u001b[0m\u001b[0;34m.\u001b[0m\u001b[0mresponse\u001b[0m\u001b[0;34m.\u001b[0m\u001b[0mclose\u001b[0m\u001b[0;34m(\u001b[0m\u001b[0;34m)\u001b[0m\u001b[0;34m\u001b[0m\u001b[0;34m\u001b[0m\u001b[0m\n\u001b[0;32m--> 973\u001b[0;31m                 return self._retry_request(\n\u001b[0m\u001b[1;32m    974\u001b[0m                     \u001b[0moptions\u001b[0m\u001b[0;34m,\u001b[0m\u001b[0;34m\u001b[0m\u001b[0;34m\u001b[0m\u001b[0m\n\u001b[1;32m    975\u001b[0m                     \u001b[0mcast_to\u001b[0m\u001b[0;34m,\u001b[0m\u001b[0;34m\u001b[0m\u001b[0;34m\u001b[0m\u001b[0m\n",
      "\u001b[0;32m~/opt/anaconda3/lib/python3.9/site-packages/anthropic/_base_client.py\u001b[0m in \u001b[0;36m_retry_request\u001b[0;34m(self, options, cast_to, remaining_retries, response_headers, stream, stream_cls)\u001b[0m\n\u001b[1;32m   1019\u001b[0m         \u001b[0mtime\u001b[0m\u001b[0;34m.\u001b[0m\u001b[0msleep\u001b[0m\u001b[0;34m(\u001b[0m\u001b[0mtimeout\u001b[0m\u001b[0;34m)\u001b[0m\u001b[0;34m\u001b[0m\u001b[0;34m\u001b[0m\u001b[0m\n\u001b[1;32m   1020\u001b[0m \u001b[0;34m\u001b[0m\u001b[0m\n\u001b[0;32m-> 1021\u001b[0;31m         return self._request(\n\u001b[0m\u001b[1;32m   1022\u001b[0m             \u001b[0moptions\u001b[0m\u001b[0;34m=\u001b[0m\u001b[0moptions\u001b[0m\u001b[0;34m,\u001b[0m\u001b[0;34m\u001b[0m\u001b[0;34m\u001b[0m\u001b[0m\n\u001b[1;32m   1023\u001b[0m             \u001b[0mcast_to\u001b[0m\u001b[0;34m=\u001b[0m\u001b[0mcast_to\u001b[0m\u001b[0;34m,\u001b[0m\u001b[0;34m\u001b[0m\u001b[0;34m\u001b[0m\u001b[0m\n",
      "\u001b[0;32m~/opt/anaconda3/lib/python3.9/site-packages/anthropic/_base_client.py\u001b[0m in \u001b[0;36m_request\u001b[0;34m(self, cast_to, options, remaining_retries, stream, stream_cls)\u001b[0m\n\u001b[1;32m    986\u001b[0m \u001b[0;34m\u001b[0m\u001b[0m\n\u001b[1;32m    987\u001b[0m             \u001b[0mlog\u001b[0m\u001b[0;34m.\u001b[0m\u001b[0mdebug\u001b[0m\u001b[0;34m(\u001b[0m\u001b[0;34m\"Re-raising status error\"\u001b[0m\u001b[0;34m)\u001b[0m\u001b[0;34m\u001b[0m\u001b[0;34m\u001b[0m\u001b[0m\n\u001b[0;32m--> 988\u001b[0;31m             \u001b[0;32mraise\u001b[0m \u001b[0mself\u001b[0m\u001b[0;34m.\u001b[0m\u001b[0m_make_status_error_from_response\u001b[0m\u001b[0;34m(\u001b[0m\u001b[0merr\u001b[0m\u001b[0;34m.\u001b[0m\u001b[0mresponse\u001b[0m\u001b[0;34m)\u001b[0m \u001b[0;32mfrom\u001b[0m \u001b[0;32mNone\u001b[0m\u001b[0;34m\u001b[0m\u001b[0;34m\u001b[0m\u001b[0m\n\u001b[0m\u001b[1;32m    989\u001b[0m \u001b[0;34m\u001b[0m\u001b[0m\n\u001b[1;32m    990\u001b[0m         return self._process_response(\n",
      "\u001b[0;31mRateLimitError\u001b[0m: Error code: 429 - {'type': 'error', 'error': {'type': 'rate_limit_error', 'message': 'Number of requests has exceeded your rate limit (https://docs.anthropic.com/claude/reference/rate-limits). Please try again later or contact sales at https://www.anthropic.com/contact-sales to discuss your options for a rate limit increase.'}}"
     ]
    }
   ],
   "source": [
    "clue = \"\"\"CA Bauru foda\"\"\"\n",
    "\n",
    "result = None\n",
    "for i in range(len(resolution_methods)):\n",
    "    result = send_prompt(clue, i)\n",
    "    save_result(result, i)\n",
    "    print(i, \"done!\")\n",
    "    "
   ]
  },
  {
   "cell_type": "code",
   "execution_count": null,
   "id": "526a53a4-c8e5-44de-8a26-698925466508",
   "metadata": {},
   "outputs": [],
   "source": []
  }
 ],
 "metadata": {
  "kernelspec": {
   "display_name": "Python 3 (ipykernel)",
   "language": "python",
   "name": "python3"
  },
  "language_info": {
   "codemirror_mode": {
    "name": "ipython",
    "version": 3
   },
   "file_extension": ".py",
   "mimetype": "text/x-python",
   "name": "python",
   "nbconvert_exporter": "python",
   "pygments_lexer": "ipython3",
   "version": "3.9.7"
  }
 },
 "nbformat": 4,
 "nbformat_minor": 5
}
